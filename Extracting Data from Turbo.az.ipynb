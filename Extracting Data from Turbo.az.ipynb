{
 "cells": [
  {
   "cell_type": "code",
   "execution_count": 2,
   "id": "ac0d40da",
   "metadata": {},
   "outputs": [],
   "source": [
    "import requests\n",
    "from bs4 import BeautifulSoup as bs\n",
    "import pandas as pd\n",
    "import time\n",
    "import numpy as np"
   ]
  },
  {
   "attachments": {},
   "cell_type": "markdown",
   "id": "6446de2d",
   "metadata": {},
   "source": [
    "### Getting all required links"
   ]
  },
  {
   "cell_type": "code",
   "execution_count": null,
   "id": "24bdb197",
   "metadata": {},
   "outputs": [],
   "source": [
    "base_url = 'https://turbo.az/'\n",
    "\n",
    "header = ['City','Brand','Model','Year','Body','Color','Engine','Engine Power',\\\n",
    "          'Fuel type','Mileage','Gearbox','Transmission','New',\"Price\"]\n",
    "\n",
    "#  Extracting all links of advertisements from website\n",
    "\n",
    "elanlar_links = []\n",
    "\n",
    "for x in range(1,416):\n",
    "    request = requests.get('https://turbo.az/autos?page={}'.format(x))\n",
    "    soup = bs(request.content,'html.parser')\n",
    "    \n",
    "    products = soup.find_all('div',{'class':'products-i'})\n",
    "\n",
    "    links = []\n",
    "\n",
    "    for each in products:\n",
    "        link_each = each.find('a',{'class':'products-i__link'})\n",
    "\n",
    "        if link_each == None:\n",
    "            continue\n",
    "        else:\n",
    "            links.append(base_url + str(link_each['href']))\n",
    "\n",
    "    elanlar_links += links"
   ]
  },
  {
   "cell_type": "code",
   "execution_count": null,
   "id": "6a7b6aa1",
   "metadata": {},
   "outputs": [],
   "source": [
    "len(elanlar_links)"
   ]
  },
  {
   "cell_type": "code",
   "execution_count": null,
   "id": "a0ac7ab1",
   "metadata": {},
   "outputs": [],
   "source": [
    "elanlar_links = list(set(elanlar_links))"
   ]
  },
  {
   "cell_type": "code",
   "execution_count": null,
   "id": "8472ed9f",
   "metadata": {},
   "outputs": [],
   "source": [
    "len(elanlar_links)"
   ]
  },
  {
   "cell_type": "code",
   "execution_count": null,
   "id": "6ae8a27c",
   "metadata": {},
   "outputs": [],
   "source": [
    "all_links = pd.DataFrame(elanlar_links)"
   ]
  },
  {
   "cell_type": "code",
   "execution_count": null,
   "id": "e6a25fe8",
   "metadata": {},
   "outputs": [],
   "source": [
    "all_links.head()"
   ]
  },
  {
   "cell_type": "code",
   "execution_count": null,
   "id": "afcfa4b4",
   "metadata": {},
   "outputs": [],
   "source": [
    "all_links.to_csv(\"all_links.csv\")"
   ]
  },
  {
   "cell_type": "code",
   "execution_count": 2,
   "id": "81797613",
   "metadata": {},
   "outputs": [],
   "source": [
    "elanlar_links = pd.read_csv(\"all_links.csv\", )\n",
    "elanlar_links.rename( columns={'0':'link'}, inplace=True )\n"
   ]
  },
  {
   "cell_type": "code",
   "execution_count": 3,
   "id": "fa96af13",
   "metadata": {},
   "outputs": [
    {
     "data": {
      "text/plain": [
       "0           https://turbo.az//autos/7028582-mercedes-c-200\n",
       "1               https://turbo.az//autos/7033835-kia-cerato\n",
       "2                https://turbo.az//autos/7019787-subaru-xv\n",
       "3             https://turbo.az//autos/7033537-moskvich-412\n",
       "4           https://turbo.az//autos/6750141-mercedes-c-300\n",
       "                               ...                        \n",
       "10871    https://turbo.az//autos/6949639-porsche-taycan...\n",
       "10872              https://turbo.az//autos/6997052-bmw-328\n",
       "10873           https://turbo.az//autos/6969419-kia-optima\n",
       "10874       https://turbo.az//autos/6445512-mercedes-viano\n",
       "10875      https://turbo.az//autos/6956615-hyundai-elantra\n",
       "Name: link, Length: 10876, dtype: object"
      ]
     },
     "execution_count": 3,
     "metadata": {},
     "output_type": "execute_result"
    }
   ],
   "source": [
    "elanlar_links = elanlar_links['link']\n",
    "elanlar_links"
   ]
  },
  {
   "attachments": {},
   "cell_type": "markdown",
   "id": "c34455a9",
   "metadata": {},
   "source": [
    "### Extracting data by parts"
   ]
  },
  {
   "cell_type": "code",
   "execution_count": 4,
   "id": "fb86bb01",
   "metadata": {},
   "outputs": [
    {
     "name": "stdout",
     "output_type": "stream",
     "text": [
      "--- 1046.5557236671448 seconds ---\n"
     ]
    }
   ],
   "source": [
    "start_time = time.time()\n",
    "\n",
    "city = []\n",
    "brand = []\n",
    "model = []\n",
    "year = []\n",
    "body = []\n",
    "color = []\n",
    "engine = []\n",
    "engine_power = []\n",
    "fuel_type = []\n",
    "mileage = []\n",
    "gearbox = []\n",
    "transmission = []\n",
    "being_new = []\n",
    "price = []\n",
    "description = []\n",
    "\n",
    "failed = []\n",
    "\n",
    "for link in elanlar_links[9000:10875]:\n",
    "    try:\n",
    "        request = requests.get(link)\n",
    "        soup = bs(request.content, 'html.parser')\n",
    "\n",
    "        properties = soup.find_all('div',{'class':'product-properties__i'})\n",
    "\n",
    "        # city\n",
    "        try:\n",
    "            city.append(properties[0].find('span').string)\n",
    "        except:\n",
    "            city.append(np.nan)\n",
    "\n",
    "        # brand\n",
    "        try:\n",
    "            brand.append(properties[1].find('span').string)\n",
    "        except:\n",
    "            brand.append(np.nan)\n",
    "\n",
    "        # model\n",
    "        try:\n",
    "            model.append(properties[2].find('span').string)\n",
    "        except:\n",
    "            model.append(np.nan)\n",
    "\n",
    "        # year\n",
    "        try:\n",
    "            year.append(properties[3].find('span').string)\n",
    "        except:\n",
    "            year.append(np.nan)\n",
    "\n",
    "        # body\n",
    "        try:\n",
    "            body.append(properties[4].find('span').string)\n",
    "        except:\n",
    "            body.append(np.nan)\n",
    "\n",
    "        # color\n",
    "        try:\n",
    "            color.append(properties[5].find('span').string)\n",
    "        except:\n",
    "            color.append(np.nan)\n",
    "\n",
    "        # engine\n",
    "        try:\n",
    "            engine.append(properties[6].find('span').string)\n",
    "        except:\n",
    "            engine.append(np.nan)\n",
    "\n",
    "        # engine power\n",
    "        try:\n",
    "            engine_power.append(properties[7].find('span').string)\n",
    "        except:\n",
    "            engine_power.append(np.nan)\n",
    "\n",
    "        # fuel type\n",
    "        try:\n",
    "            fuel_type.append(properties[8].find('span').string)\n",
    "        except:\n",
    "            fuel_type.append(np.nan)\n",
    "\n",
    "        # mileage\n",
    "        try:\n",
    "            mileage.append(properties[9].find('span').string)\n",
    "        except:\n",
    "            mileage.append(np.nan)\n",
    "\n",
    "        # gearbox\n",
    "        try:\n",
    "            gearbox.append(properties[10].find('span').string)\n",
    "        except:\n",
    "            gearbox.append(np.nan)\n",
    "\n",
    "        # transmission\n",
    "        try:\n",
    "            transmission.append(properties[11].find('span').string)\n",
    "        except:\n",
    "            transmission.append(np.nan)\n",
    "\n",
    "        # being new\n",
    "        try:\n",
    "            being_new.append(properties[12].find('span').string)\n",
    "        except:\n",
    "            being_new.append(np.nan)\n",
    "\n",
    "        # price\n",
    "        try:\n",
    "            price.append(soup.find(class_='product-price__i').text)\n",
    "        except:\n",
    "            price.append(np.nan)\n",
    "\n",
    "        # description\n",
    "        try:\n",
    "            description.append(soup.find(class_='product-description__content').text)\n",
    "        except:\n",
    "            description.append(np.nan)\n",
    "    except:\n",
    "        print(f\"failed, # of link {elanlar_links.index(link)}\")\n",
    "        failed.append(link)\n",
    "    \n",
    "    \n",
    "    \n",
    "    \n",
    "finish_time = time.time()\n",
    "print(f\"{finish_time - start_time} seconds\")"
   ]
  },
  {
   "cell_type": "code",
   "execution_count": null,
   "id": "056a07e3",
   "metadata": {},
   "outputs": [],
   "source": []
  },
  {
   "cell_type": "code",
   "execution_count": 5,
   "id": "96d04cc6",
   "metadata": {},
   "outputs": [],
   "source": [
    "df = pd.DataFrame({'City':city, 'Brand':brand, 'Model':model,\\\n",
    "                   'Year':year, 'Body':body, 'Color':color,\\\n",
    "                   'Engine':engine, 'Engine Power':engine_power, 'Fuel Type':fuel_type,\\\n",
    "                   'Mileage':mileage, 'Gearbox':gearbox, 'Transmission':transmission,\\\n",
    "                   'Being new':being_new,'Description':description, 'Price':price})"
   ]
  },
  {
   "cell_type": "code",
   "execution_count": 6,
   "id": "702cc9ca",
   "metadata": {},
   "outputs": [
    {
     "data": {
      "text/html": [
       "<div>\n",
       "<style scoped>\n",
       "    .dataframe tbody tr th:only-of-type {\n",
       "        vertical-align: middle;\n",
       "    }\n",
       "\n",
       "    .dataframe tbody tr th {\n",
       "        vertical-align: top;\n",
       "    }\n",
       "\n",
       "    .dataframe thead th {\n",
       "        text-align: right;\n",
       "    }\n",
       "</style>\n",
       "<table border=\"1\" class=\"dataframe\">\n",
       "  <thead>\n",
       "    <tr style=\"text-align: right;\">\n",
       "      <th></th>\n",
       "      <th>City</th>\n",
       "      <th>Brand</th>\n",
       "      <th>Model</th>\n",
       "      <th>Year</th>\n",
       "      <th>Body</th>\n",
       "      <th>Color</th>\n",
       "      <th>Engine</th>\n",
       "      <th>Engine Power</th>\n",
       "      <th>Fuel Type</th>\n",
       "      <th>Mileage</th>\n",
       "      <th>Gearbox</th>\n",
       "      <th>Transmission</th>\n",
       "      <th>Being new</th>\n",
       "      <th>Description</th>\n",
       "      <th>Price</th>\n",
       "    </tr>\n",
       "  </thead>\n",
       "  <tbody>\n",
       "    <tr>\n",
       "      <th>0</th>\n",
       "      <td>Bakı</td>\n",
       "      <td>Opel</td>\n",
       "      <td>Astra</td>\n",
       "      <td>2006</td>\n",
       "      <td>Hetçbek</td>\n",
       "      <td>Göy</td>\n",
       "      <td>1.3 L/90 a.g./Dizel</td>\n",
       "      <td>210 000 km</td>\n",
       "      <td>Mexaniki</td>\n",
       "      <td>Ön</td>\n",
       "      <td>Xeyr</td>\n",
       "      <td>0</td>\n",
       "      <td>Vuruğu yoxdur, rənglənməyib</td>\n",
       "      <td>Kondisioner.Avtopilot.Multi rul isləyir.\\nMato...</td>\n",
       "      <td>11 400 AZN</td>\n",
       "    </tr>\n",
       "    <tr>\n",
       "      <th>1</th>\n",
       "      <td>Bakı</td>\n",
       "      <td>Ford</td>\n",
       "      <td>Fusion</td>\n",
       "      <td>2014</td>\n",
       "      <td>Sedan</td>\n",
       "      <td>Ağ</td>\n",
       "      <td>1.5 L/181 a.g./Benzin</td>\n",
       "      <td>111 500 km</td>\n",
       "      <td>Avtomat</td>\n",
       "      <td>Ön</td>\n",
       "      <td>Xeyr</td>\n",
       "      <td>4</td>\n",
       "      <td>1</td>\n",
       "      <td>Tam ideal masindi ,sexsi istifadem ucun getiri...</td>\n",
       "      <td>19 550 AZN</td>\n",
       "    </tr>\n",
       "    <tr>\n",
       "      <th>2</th>\n",
       "      <td>Bakı</td>\n",
       "      <td>Toyota</td>\n",
       "      <td>Prado</td>\n",
       "      <td>2004</td>\n",
       "      <td>Offroader / SUV</td>\n",
       "      <td>Gümüşü</td>\n",
       "      <td>4.0 L/249 a.g./Benzin</td>\n",
       "      <td>172 000 km</td>\n",
       "      <td>Avtomat</td>\n",
       "      <td>Tam</td>\n",
       "      <td>Xeyr</td>\n",
       "      <td>7</td>\n",
       "      <td>2</td>\n",
       "      <td>Maşın əla vəziyyətdədir. Mühərrik və sürətlər ...</td>\n",
       "      <td>22 800 AZN</td>\n",
       "    </tr>\n",
       "    <tr>\n",
       "      <th>3</th>\n",
       "      <td>Bakı</td>\n",
       "      <td>BMW</td>\n",
       "      <td>330</td>\n",
       "      <td>2018</td>\n",
       "      <td>Sedan</td>\n",
       "      <td>Ağ</td>\n",
       "      <td>2.0 L/258 a.g./Benzin</td>\n",
       "      <td>65 000 km</td>\n",
       "      <td>Avtomat</td>\n",
       "      <td>Tam</td>\n",
       "      <td>Xeyr</td>\n",
       "      <td>5</td>\n",
       "      <td>1</td>\n",
       "      <td>Kanada istehsalidir priboru kilometrledir sexs...</td>\n",
       "      <td>26 000 USD</td>\n",
       "    </tr>\n",
       "    <tr>\n",
       "      <th>4</th>\n",
       "      <td>Bakı</td>\n",
       "      <td>Mercedes</td>\n",
       "      <td>E 220</td>\n",
       "      <td>2000</td>\n",
       "      <td>Sedan</td>\n",
       "      <td>Mavi</td>\n",
       "      <td>2.2 L/143 a.g./Dizel</td>\n",
       "      <td>148 674 km</td>\n",
       "      <td>Avtomat</td>\n",
       "      <td>Arxa</td>\n",
       "      <td>Xeyr</td>\n",
       "      <td>Vuruğu yoxdur, rənglənməyib</td>\n",
       "      <td>Avropa</td>\n",
       "      <td>Şəkillər ətraflı çəlilib maşın tam olaraq idea...</td>\n",
       "      <td>15 800 AZN</td>\n",
       "    </tr>\n",
       "  </tbody>\n",
       "</table>\n",
       "</div>"
      ],
      "text/plain": [
       "   City     Brand   Model  Year             Body   Color  \\\n",
       "0  Bakı      Opel   Astra  2006          Hetçbek     Göy   \n",
       "1  Bakı      Ford  Fusion  2014            Sedan      Ağ   \n",
       "2  Bakı    Toyota   Prado  2004  Offroader / SUV  Gümüşü   \n",
       "3  Bakı       BMW     330  2018            Sedan      Ağ   \n",
       "4  Bakı  Mercedes   E 220  2000            Sedan    Mavi   \n",
       "\n",
       "                  Engine Engine Power Fuel Type Mileage Gearbox  \\\n",
       "0    1.3 L/90 a.g./Dizel   210 000 km  Mexaniki      Ön    Xeyr   \n",
       "1  1.5 L/181 a.g./Benzin   111 500 km   Avtomat      Ön    Xeyr   \n",
       "2  4.0 L/249 a.g./Benzin   172 000 km   Avtomat     Tam    Xeyr   \n",
       "3  2.0 L/258 a.g./Benzin    65 000 km   Avtomat     Tam    Xeyr   \n",
       "4   2.2 L/143 a.g./Dizel   148 674 km   Avtomat    Arxa    Xeyr   \n",
       "\n",
       "                  Transmission                    Being new  \\\n",
       "0                            0  Vuruğu yoxdur, rənglənməyib   \n",
       "1                            4                            1   \n",
       "2                            7                            2   \n",
       "3                            5                            1   \n",
       "4  Vuruğu yoxdur, rənglənməyib                       Avropa   \n",
       "\n",
       "                                         Description       Price  \n",
       "0  Kondisioner.Avtopilot.Multi rul isləyir.\\nMato...  11 400 AZN  \n",
       "1  Tam ideal masindi ,sexsi istifadem ucun getiri...  19 550 AZN  \n",
       "2  Maşın əla vəziyyətdədir. Mühərrik və sürətlər ...  22 800 AZN  \n",
       "3  Kanada istehsalidir priboru kilometrledir sexs...  26 000 USD  \n",
       "4  Şəkillər ətraflı çəlilib maşın tam olaraq idea...  15 800 AZN  "
      ]
     },
     "execution_count": 6,
     "metadata": {},
     "output_type": "execute_result"
    }
   ],
   "source": [
    "df.head()"
   ]
  },
  {
   "cell_type": "code",
   "execution_count": 7,
   "id": "82cbc9cd",
   "metadata": {},
   "outputs": [],
   "source": [
    "df.to_csv('Turbo_az_part6.csv', index = False)"
   ]
  },
  {
   "cell_type": "code",
   "execution_count": 13,
   "id": "a67df423",
   "metadata": {},
   "outputs": [],
   "source": [
    "part1 = pd.read_csv(\"Turbo_az_part1.csv\")\n",
    "part2 = pd.read_csv(\"Turbo_az_part2.csv\")\n",
    "part3 = pd.read_csv(\"Turbo_az_part3.csv\")\n",
    "part4 = pd.read_csv(\"Turbo_az_part4.csv\")\n",
    "part5 = pd.read_csv(\"Turbo_az_part5.csv\")\n",
    "part6 = pd.read_csv(\"Turbo_az_part6.csv\")\n"
   ]
  },
  {
   "cell_type": "code",
   "execution_count": 14,
   "id": "da1b910c",
   "metadata": {},
   "outputs": [
    {
     "name": "stderr",
     "output_type": "stream",
     "text": [
      "/tmp/ipykernel_25047/995555198.py:1: FutureWarning: The frame.append method is deprecated and will be removed from pandas in a future version. Use pandas.concat instead.\n",
      "  all_parts = part1.append(part2)\n",
      "/tmp/ipykernel_25047/995555198.py:2: FutureWarning: The frame.append method is deprecated and will be removed from pandas in a future version. Use pandas.concat instead.\n",
      "  all_parts = all_parts.append(part3)\n",
      "/tmp/ipykernel_25047/995555198.py:3: FutureWarning: The frame.append method is deprecated and will be removed from pandas in a future version. Use pandas.concat instead.\n",
      "  all_parts = all_parts.append(part4)\n",
      "/tmp/ipykernel_25047/995555198.py:4: FutureWarning: The frame.append method is deprecated and will be removed from pandas in a future version. Use pandas.concat instead.\n",
      "  all_parts = all_parts.append(part5)\n",
      "/tmp/ipykernel_25047/995555198.py:5: FutureWarning: The frame.append method is deprecated and will be removed from pandas in a future version. Use pandas.concat instead.\n",
      "  all_parts = all_parts.append(part6)\n"
     ]
    }
   ],
   "source": [
    "all_parts = part1.append(part2)\n",
    "all_parts = all_parts.append(part3)\n",
    "all_parts = all_parts.append(part4)\n",
    "all_parts = all_parts.append(part5)\n",
    "all_parts = all_parts.append(part6)\n"
   ]
  },
  {
   "cell_type": "code",
   "execution_count": 18,
   "id": "04827c96",
   "metadata": {},
   "outputs": [
    {
     "data": {
      "text/plain": [
       "(2500, 15)"
      ]
     },
     "execution_count": 18,
     "metadata": {},
     "output_type": "execute_result"
    }
   ],
   "source": [
    "part1.shape"
   ]
  },
  {
   "cell_type": "code",
   "execution_count": 19,
   "id": "39e146d6",
   "metadata": {},
   "outputs": [
    {
     "data": {
      "text/plain": [
       "(2000, 15)"
      ]
     },
     "execution_count": 19,
     "metadata": {},
     "output_type": "execute_result"
    }
   ],
   "source": [
    "part2.shape"
   ]
  },
  {
   "cell_type": "code",
   "execution_count": 20,
   "id": "1853171e",
   "metadata": {},
   "outputs": [
    {
     "data": {
      "text/plain": [
       "(1000, 15)"
      ]
     },
     "execution_count": 20,
     "metadata": {},
     "output_type": "execute_result"
    }
   ],
   "source": [
    "part3.shape\n"
   ]
  },
  {
   "cell_type": "code",
   "execution_count": 21,
   "id": "7e9fc035",
   "metadata": {},
   "outputs": [
    {
     "data": {
      "text/plain": [
       "(1500, 15)"
      ]
     },
     "execution_count": 21,
     "metadata": {},
     "output_type": "execute_result"
    }
   ],
   "source": [
    "part4.shape\n"
   ]
  },
  {
   "cell_type": "code",
   "execution_count": 22,
   "id": "700e66c5",
   "metadata": {},
   "outputs": [
    {
     "data": {
      "text/plain": [
       "(2000, 15)"
      ]
     },
     "execution_count": 22,
     "metadata": {},
     "output_type": "execute_result"
    }
   ],
   "source": [
    "part5.shape\n"
   ]
  },
  {
   "cell_type": "code",
   "execution_count": 23,
   "id": "2ee64b23",
   "metadata": {},
   "outputs": [
    {
     "data": {
      "text/plain": [
       "(1875, 15)"
      ]
     },
     "execution_count": 23,
     "metadata": {},
     "output_type": "execute_result"
    }
   ],
   "source": [
    "part6.shape\n"
   ]
  },
  {
   "cell_type": "code",
   "execution_count": 24,
   "id": "3b1ee9d7",
   "metadata": {},
   "outputs": [
    {
     "data": {
      "text/plain": [
       "(10875, 15)"
      ]
     },
     "execution_count": 24,
     "metadata": {},
     "output_type": "execute_result"
    }
   ],
   "source": [
    "all_parts.shape"
   ]
  },
  {
   "cell_type": "code",
   "execution_count": 26,
   "id": "faae9430",
   "metadata": {},
   "outputs": [
    {
     "data": {
      "text/html": [
       "<div>\n",
       "<style scoped>\n",
       "    .dataframe tbody tr th:only-of-type {\n",
       "        vertical-align: middle;\n",
       "    }\n",
       "\n",
       "    .dataframe tbody tr th {\n",
       "        vertical-align: top;\n",
       "    }\n",
       "\n",
       "    .dataframe thead th {\n",
       "        text-align: right;\n",
       "    }\n",
       "</style>\n",
       "<table border=\"1\" class=\"dataframe\">\n",
       "  <thead>\n",
       "    <tr style=\"text-align: right;\">\n",
       "      <th></th>\n",
       "      <th>City</th>\n",
       "      <th>Brand</th>\n",
       "      <th>Model</th>\n",
       "      <th>Year</th>\n",
       "      <th>Body</th>\n",
       "      <th>Color</th>\n",
       "      <th>Engine</th>\n",
       "      <th>Engine Power</th>\n",
       "      <th>Fuel Type</th>\n",
       "      <th>Mileage</th>\n",
       "      <th>Gearbox</th>\n",
       "      <th>Transmission</th>\n",
       "      <th>Being new</th>\n",
       "      <th>Description</th>\n",
       "      <th>Price</th>\n",
       "    </tr>\n",
       "  </thead>\n",
       "  <tbody>\n",
       "    <tr>\n",
       "      <th>0</th>\n",
       "      <td>Bakı</td>\n",
       "      <td>Mercedes</td>\n",
       "      <td>C 200</td>\n",
       "      <td>1995.0</td>\n",
       "      <td>Sedan</td>\n",
       "      <td>Gümüşü</td>\n",
       "      <td>2.0 L/136 a.g./Benzin</td>\n",
       "      <td>187 444 km</td>\n",
       "      <td>Avtomat</td>\n",
       "      <td>Arxa</td>\n",
       "      <td>Xeyr</td>\n",
       "      <td>5</td>\n",
       "      <td>2</td>\n",
       "      <td>Ozüne ideal ceşka isteyen buyursun maşın tam s...</td>\n",
       "      <td>9 000 AZN</td>\n",
       "    </tr>\n",
       "    <tr>\n",
       "      <th>1</th>\n",
       "      <td>Bakı</td>\n",
       "      <td>Kia</td>\n",
       "      <td>Cerato</td>\n",
       "      <td>2015.0</td>\n",
       "      <td>Sedan</td>\n",
       "      <td>Gümüşü</td>\n",
       "      <td>1.8 L/149 a.g./Benzin</td>\n",
       "      <td>83 000 km</td>\n",
       "      <td>Avtomat</td>\n",
       "      <td>Ön</td>\n",
       "      <td>Xeyr</td>\n",
       "      <td>2</td>\n",
       "      <td>Vuruğu yoxdur, rənglənməyib</td>\n",
       "      <td>Salam masin 2021ci ilin may ayinda bakiya geli...</td>\n",
       "      <td>19 900 AZN</td>\n",
       "    </tr>\n",
       "    <tr>\n",
       "      <th>2</th>\n",
       "      <td>Bakı</td>\n",
       "      <td>Subaru</td>\n",
       "      <td>XV</td>\n",
       "      <td>2014.0</td>\n",
       "      <td>Offroader / SUV</td>\n",
       "      <td>Ağ</td>\n",
       "      <td>2.0 L/150 a.g./Benzin</td>\n",
       "      <td>65 600 km</td>\n",
       "      <td>Avtomat</td>\n",
       "      <td>Tam</td>\n",
       "      <td>Xeyr</td>\n",
       "      <td>5</td>\n",
       "      <td>3</td>\n",
       "      <td>Maşın ideal vəziyyətdədir</td>\n",
       "      <td>25 000 AZN</td>\n",
       "    </tr>\n",
       "    <tr>\n",
       "      <th>3</th>\n",
       "      <td>Göyçay</td>\n",
       "      <td>Moskvich</td>\n",
       "      <td>412</td>\n",
       "      <td>1991.0</td>\n",
       "      <td>Sedan</td>\n",
       "      <td>Bej</td>\n",
       "      <td>1.5 L/75 a.g./Benzin</td>\n",
       "      <td>486 223 km</td>\n",
       "      <td>Mexaniki</td>\n",
       "      <td>Arxa</td>\n",
       "      <td>Xeyr</td>\n",
       "      <td>5</td>\n",
       "      <td>Vuruğu yoxdur, rənglənməyib</td>\n",
       "      <td>Sadece ciddi wexsler narahat etsin</td>\n",
       "      <td>2 800 AZN</td>\n",
       "    </tr>\n",
       "    <tr>\n",
       "      <th>4</th>\n",
       "      <td>Bakı</td>\n",
       "      <td>Mercedes</td>\n",
       "      <td>C 300</td>\n",
       "      <td>2018.0</td>\n",
       "      <td>Sedan</td>\n",
       "      <td>Qara</td>\n",
       "      <td>2.0 L/249 a.g./Benzin</td>\n",
       "      <td>36 000 km</td>\n",
       "      <td>Avtomat</td>\n",
       "      <td>Arxa</td>\n",
       "      <td>Xeyr</td>\n",
       "      <td>5</td>\n",
       "      <td>Vuruğu yoxdur, rənglənməyib</td>\n",
       "      <td>Avtomobil bir aydi gelib bakiya, hechbir probl...</td>\n",
       "      <td>35 500 USD</td>\n",
       "    </tr>\n",
       "  </tbody>\n",
       "</table>\n",
       "</div>"
      ],
      "text/plain": [
       "     City     Brand   Model    Year             Body   Color  \\\n",
       "0    Bakı  Mercedes   C 200  1995.0            Sedan  Gümüşü   \n",
       "1    Bakı       Kia  Cerato  2015.0            Sedan  Gümüşü   \n",
       "2    Bakı    Subaru      XV  2014.0  Offroader / SUV      Ağ   \n",
       "3  Göyçay  Moskvich     412  1991.0            Sedan     Bej   \n",
       "4    Bakı  Mercedes   C 300  2018.0            Sedan    Qara   \n",
       "\n",
       "                  Engine Engine Power Fuel Type Mileage Gearbox Transmission  \\\n",
       "0  2.0 L/136 a.g./Benzin   187 444 km   Avtomat    Arxa    Xeyr            5   \n",
       "1  1.8 L/149 a.g./Benzin    83 000 km   Avtomat      Ön    Xeyr            2   \n",
       "2  2.0 L/150 a.g./Benzin    65 600 km   Avtomat     Tam    Xeyr            5   \n",
       "3   1.5 L/75 a.g./Benzin   486 223 km  Mexaniki    Arxa    Xeyr            5   \n",
       "4  2.0 L/249 a.g./Benzin    36 000 km   Avtomat    Arxa    Xeyr            5   \n",
       "\n",
       "                     Being new  \\\n",
       "0                            2   \n",
       "1  Vuruğu yoxdur, rənglənməyib   \n",
       "2                            3   \n",
       "3  Vuruğu yoxdur, rənglənməyib   \n",
       "4  Vuruğu yoxdur, rənglənməyib   \n",
       "\n",
       "                                         Description       Price  \n",
       "0  Ozüne ideal ceşka isteyen buyursun maşın tam s...   9 000 AZN  \n",
       "1  Salam masin 2021ci ilin may ayinda bakiya geli...  19 900 AZN  \n",
       "2                          Maşın ideal vəziyyətdədir  25 000 AZN  \n",
       "3                Sadece ciddi wexsler narahat etsin    2 800 AZN  \n",
       "4  Avtomobil bir aydi gelib bakiya, hechbir probl...  35 500 USD  "
      ]
     },
     "execution_count": 26,
     "metadata": {},
     "output_type": "execute_result"
    }
   ],
   "source": [
    "all_parts.head()"
   ]
  },
  {
   "cell_type": "code",
   "execution_count": 27,
   "id": "5f968c64",
   "metadata": {},
   "outputs": [
    {
     "data": {
      "text/plain": [
       "array(['Bakı', 'Göyçay', 'Şirvan', 'Sumqayıt', 'Biləsuvar', 'Gəncə',\n",
       "       'Cəlilabad', 'Ağcabədi', 'Mingəçevir', 'Lənkəran', 'Neftçala',\n",
       "       'Qazax', 'Kürdəmir', 'Şəmkir', 'Tərtər', 'Masallı', 'Gədəbəy',\n",
       "       'Quba', 'Yevlax', 'Naxçıvan', 'Ağdam', 'Şabran', 'Sabirabad',\n",
       "       'Beyləqan', 'Ağsu', 'Bərdə', 'Tovuz', 'Goranboy', 'Qusar',\n",
       "       'Füzuli', 'Qəbələ', 'Qax', 'Zərdab', 'Salyan', 'Xaçmaz', 'Şamaxı',\n",
       "       'Xudat', 'Balakən', 'Zaqatala', 'İmişli', 'Ağdaş', 'Xırdalan',\n",
       "       'Astara', 'Şəki', 'Siyəzən', 'Oğuz', 'İsmayıllı', 'Samux',\n",
       "       'Naftalan', 'Lerik', 'Hacıqabul', 'Göygöl', 'Ağstafa', 'Saatlı',\n",
       "       nan, 'Ucar', 'Cəbrayıl', 'Dəliməmmədli', 'Horadiz', 'Qobustan',\n",
       "       'Ordubad'], dtype=object)"
      ]
     },
     "execution_count": 27,
     "metadata": {},
     "output_type": "execute_result"
    }
   ],
   "source": [
    "all_parts['City'].unique()"
   ]
  },
  {
   "cell_type": "code",
   "execution_count": 28,
   "id": "dab0e04e",
   "metadata": {},
   "outputs": [
    {
     "data": {
      "text/plain": [
       "array(['2', 'Vuruğu yoxdur, rənglənməyib', '3', '1', nan, 'Amerika',\n",
       "       'Rəsmi diler', '0', 'Avropa', 'Vuruğu yoxdur, rənglənib', 'Koreya',\n",
       "       'Rusiya', 'Vuruğu var, rənglənib', 'Digər', 'Yaponiya',\n",
       "       '4 və daha çox', 'Dubay', 'Vuruğu var, rənglənməyib', 'Bəli'],\n",
       "      dtype=object)"
      ]
     },
     "execution_count": 28,
     "metadata": {},
     "output_type": "execute_result"
    }
   ],
   "source": [
    "all_parts['Being new'].unique()"
   ]
  },
  {
   "cell_type": "code",
   "execution_count": 30,
   "id": "d3313534",
   "metadata": {},
   "outputs": [
    {
     "data": {
      "text/plain": [
       "array(['9 000 AZN', '19 900 AZN', '25 000 AZN', ..., '54 000 EUR',\n",
       "       '7 650 AZN', '338 555 USD'], dtype=object)"
      ]
     },
     "execution_count": 30,
     "metadata": {},
     "output_type": "execute_result"
    }
   ],
   "source": [
    "all_parts['Price'].unique()"
   ]
  },
  {
   "cell_type": "code",
   "execution_count": 31,
   "id": "d3718101",
   "metadata": {},
   "outputs": [],
   "source": [
    "all_parts.to_csv(\"TURBO_AZ.csv\")"
   ]
  },
  {
   "cell_type": "code",
   "execution_count": 32,
   "id": "1f3a1a94",
   "metadata": {},
   "outputs": [
    {
     "data": {
      "text/plain": [
       "Index(['City', 'Brand', 'Model', 'Year', 'Body', 'Color', 'Engine',\n",
       "       'Engine Power', 'Fuel Type', 'Mileage', 'Gearbox', 'Transmission',\n",
       "       'Being new', 'Description', 'Price'],\n",
       "      dtype='object')"
      ]
     },
     "execution_count": 32,
     "metadata": {},
     "output_type": "execute_result"
    }
   ],
   "source": [
    "all_parts.columns"
   ]
  },
  {
   "cell_type": "code",
   "execution_count": null,
   "id": "04e37c98",
   "metadata": {},
   "outputs": [],
   "source": []
  }
 ],
 "metadata": {
  "kernelspec": {
   "display_name": "Python 3",
   "language": "python",
   "name": "python3"
  },
  "language_info": {
   "codemirror_mode": {
    "name": "ipython",
    "version": 3
   },
   "file_extension": ".py",
   "mimetype": "text/x-python",
   "name": "python",
   "nbconvert_exporter": "python",
   "pygments_lexer": "ipython3",
   "version": "3.8.10"
  },
  "vscode": {
   "interpreter": {
    "hash": "916dbcbb3f70747c44a77c7bcd40155683ae19c65e1c03b4aa3499c5328201f1"
   }
  }
 },
 "nbformat": 4,
 "nbformat_minor": 5
}
